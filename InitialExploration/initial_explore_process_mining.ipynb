{
 "cells": [
  {
   "cell_type": "markdown",
   "id": "32bc99f3",
   "metadata": {},
   "source": [
    "# Process Mining Functions"
   ]
  },
  {
   "cell_type": "code",
   "execution_count": 4,
   "id": "b82e3625",
   "metadata": {},
   "outputs": [],
   "source": [
    "import os\n",
    "import pandas as pd\n",
    "import numpy as np\n",
    "from pm4py.objects.conversion.log import converter as log_converter\n",
    "from pm4py.objects.log.importer.xes import importer as xes_importer\n",
    "from pm4py.visualization.process_tree import visualizer as pt_visualizer\n",
    "from pm4py.visualization.petrinet import visualizer as pn_visualizater\n",
    "from pm4py.visualization.heuristics_net import visualizer as hn_visualizer\n",
    "from pm4py.visualization.dfg import visualizer as dfg_visualizer\n",
    "from pm4py.algo.discovery.dfg import algorithm as dfg_discovery\n",
    "from pm4py.algo.discovery.inductive import algorithm as inductive_miner\n",
    "from pm4py.algo.filtering.log.variants import variants_filter\n",
    "from pm4py.algo.filtering.log.attributes import attributes_filter\n",
    "from pm4py.algo.discovery.heuristics import algorithm as heuristics_miner\n",
    "from pm4py.algo.discovery.alpha import algorithm as alpha_miner\n",
    "from pm4py.algo.filtering.log.paths import paths_filter\n",
    "from pm4py.statistics.traces.log import case_statistics\n",
    "from pm4py.util import constants\n",
    "# import sqlalchemy\n",
    "pd.set_option('display.max_columns', None)\n",
    "pd.set_option('display.max_rows', 500)"
   ]
  },
  {
   "cell_type": "code",
   "execution_count": null,
   "id": "8d976fd8",
   "metadata": {},
   "outputs": [],
   "source": [
    "root_path = 'C:\\\\Users\\\\luoyan011\\\\Desktop\\\\PersonalLearning\\\\GitHub\\\\\\ProcessMiningData'\n",
    "raw_data = pd.read_csv(os.path.join(root_path, \"x.csv\"), names=['target', 'id', 'date', 'flag', 'user', 'text'], header=None)"
   ]
  },
  {
   "cell_type": "code",
   "execution_count": null,
   "id": "b12dafa0",
   "metadata": {},
   "outputs": [],
   "source": [
    "df['date'] = pd.to_datetime(df.date)\n",
    "df = df.sort_values(by=[''])\n",
    "df.rename(columns = {'CASE_ID': 'case:clientID', 'ACTIVIT': 'concept:name', 'ACTIVITY_DATE': 'time:timestamp'}, inplace = True)\n",
    "parameters = {\n",
    "    log_converter.Variants.TO_EVENT_LOG.value.Parameters.CASE_ID_KEY: 'case:clientID'\n",
    "}"
   ]
  },
  {
   "cell_type": "code",
   "execution_count": null,
   "id": "8ebeea36",
   "metadata": {},
   "outputs": [],
   "source": [
    "def view_process(log, file):\n",
    "    #create and visualize the process map\n",
    "    filtered_log = log\n",
    "    heu_net = heuristics_miner.apply_heu(filtered_log,\n",
    "                                        parameters = {heuristics_miner.Variants.CLASSIC.value.Parameters.MIN_DFG_OCCURRENCES})\n",
    "    gviz = hn_visualizer.apply(heu_net)\n",
    "    print()\n",
    "    print('Frequency')\n",
    "    \n",
    "    hn_visualizer.view(gviz)\n",
    "    \n",
    "    workflow_name = root_path + '/' + file + '_workflow.png'\n",
    "    \n",
    "    print(workflow_name)\n",
    "    hn_visualizer.save(gviz, workflow_name)\n",
    "    \n",
    "    #create and visualize the process performance chart\n",
    "    dfg = dfg_discovery.apply(filtered_log, variant = dfg_discovery.Variants.PERFORMANCE)\n",
    "    parameters = {dfg_visualizer.Variants.PERFORMANCE.value.Parameters.FORMAT: \"png\"}\n",
    "    gviz = dfg_visualizer.apply(dfg, log = filtered_log, variant = dfg_visualizer.Variants.PERFORMANCE, parameters)\n",
    "    \n",
    "    print()\n",
    "    print('timing')\n",
    "    print()\n",
    "    \n",
    "    dfg_visulizer.view(gviz)\n",
    "    \n",
    "    print()\n",
    "    variants_count = case_statistics.get_variant_statistics(filtered_log)\n",
    "    variants_count = sorted(variants_count, key = lambda x: x['count'], reverse = True)\n",
    "    print()\n",
    "    print('top path timing')\n",
    "    print()\n",
    "    print('policy counts:')\n",
    "    print((variants_count[0]['count']))\n",
    "    print()\n",
    "    \n",
    "    filtered_log1 = variants_filter.apply(filtered_log, [variants_count[0]['variant']])\n",
    "    dfg = dfg_discovery.apply(filtered_log1, variant = dfg_discovery.Variants.PERFORMANCE)\n",
    "    parameters = {dfg_visualizer.Variants.PERFORMANCE.value.Parameters.FORMAT: \"png\"}\n",
    "    gviz = dfg_visualizer.apply(dfg, log = filtered_log1, variant = dfg_visualizer.Variants.PERFORMANCE, parameters)\n",
    "    \n",
    "    dfg_visulizer.view(gviz)"
   ]
  },
  {
   "cell_type": "code",
   "execution_count": null,
   "id": "bc515b66",
   "metadata": {},
   "outputs": [],
   "source": [
    "df_non_nigo_hipaa = df[df['nigo_auto_hipaa_ind']==0]\n",
    "log_non_nigo_hipaa = log_converter.apply(df_non_nigo_hipaa, parameters = parameters, variant = log_converter.Variants.TO_EVENT_LOG)\n",
    "print(df_non_nigo_hipaa['case:clientID'].unique().shape)\n",
    "viewrequirement(log_non_nigo_hipaa,'non_nigo_hipaa_cases')"
   ]
  }
 ],
 "metadata": {
  "kernelspec": {
   "display_name": "Python 3",
   "language": "python",
   "name": "python3"
  },
  "language_info": {
   "codemirror_mode": {
    "name": "ipython",
    "version": 3
   },
   "file_extension": ".py",
   "mimetype": "text/x-python",
   "name": "python",
   "nbconvert_exporter": "python",
   "pygments_lexer": "ipython3",
   "version": "3.8.8"
  }
 },
 "nbformat": 4,
 "nbformat_minor": 5
}
